{
 "cells": [
  {
   "cell_type": "markdown",
   "metadata": {},
   "source": [
    "# llm4code\n",
    "\n",
    "### Kat Nykiel, Purdue University\n",
    "\n",
    "### April 12, 2024\n",
    "\n",
    "This tool provides a demonstration of the use of Web-Based LLMs for programming. This is the second half of an MNT-CURN workshop titled \"Introduction to Programming with LLM Coding Assistants\". The presentation for the first half can be found [here](presentation.pdf). Little prior experience of coding is required; to run each cell, you just need to press `SHIFT` and `ENTER`.\n",
    "\n",
    "![MNT-EC, MNT-CURN, and Purdue logos](logos.png)\n",
    "\n",
    "## Anthropic Claude\n",
    "\n",
    "This demonstration will depict a plausible use of [Claude](https://claude.ai/chats) for coding. Claude Haiku, the free-tier model, currently outperforms both Gemini and ChatGPT on python coding benchmarks. To follow along with this demonstration, you can sign up for an account with Claude and run the same promps as I do. All of the promps I use are demarcated in the following way:\n",
    "\n",
    "> This is a prompt\n",
    "\n",
    "\n",
    "\n",
    "## Simulating Board Game Dice\n",
    "\n",
    "This notebook focuses on an illustrative sample problem: how would you simulate the rolling of dice in a board game? This is a highly interpretable example, as most of us have real-world experience rolling dice, but many of the same principles carry over to more advanced simulation methods.\n",
    "\n",
    "![two six-sided dice](dice.png)\n",
    "\n",
    "This is a Gemini-generated image... notice anything off?"
   ]
  },
  {
   "cell_type": "markdown",
   "metadata": {},
   "source": [
    "## "
   ]
  },
  {
   "cell_type": "markdown",
   "metadata": {},
   "source": [
    "### Simulating a Dice Roll\n",
    "\n",
    "The prompt:\n",
    "\n",
    "> Can you write a python function to simulate a six-sided die roll?\n",
    "\n",
    "Returns the following:"
   ]
  },
  {
   "cell_type": "code",
   "execution_count": 10,
   "metadata": {},
   "outputs": [
    {
     "name": "stdout",
     "output_type": "stream",
     "text": [
      "You rolled a 1!\n"
     ]
    }
   ],
   "source": [
    "import random\n",
    "\n",
    "def roll_die():\n",
    "    \"\"\"\n",
    "    Simulates a roll of a six-sided die.\n",
    "    \n",
    "    Returns:\n",
    "        int: The result of the die roll, a number between 1 and 6.\n",
    "    \"\"\"\n",
    "    return random.randint(1, 6)\n",
    "\n",
    "result = roll_die()\n",
    "print(f\"You rolled a {result}!\")"
   ]
  },
  {
   "cell_type": "markdown",
   "metadata": {},
   "source": [
    "This is great! It returned a working function, and even wrote a test for us. If you run it on your own, your code may vary slightly.\n",
    "\n",
    "Now, let's ask it a follow up question.\n",
    "\n",
    "> Can you write another function to roll two dice and return the sum, using this function?\n",
    "\n",
    "Here, Claude understands the context of what \"this\" refers to here - our previous roll_dice function."
   ]
  },
  {
   "cell_type": "code",
   "execution_count": 11,
   "metadata": {},
   "outputs": [
    {
     "name": "stdout",
     "output_type": "stream",
     "text": [
      "The sum of the two dice is 7.\n"
     ]
    }
   ],
   "source": [
    "def roll_two_dice():\n",
    "    \"\"\"\n",
    "    Rolls two six-sided dice and returns the sum of the results.\n",
    "    \n",
    "    Returns:\n",
    "        int: The sum of the two dice rolls.\n",
    "    \"\"\"\n",
    "    die1 = roll_die()\n",
    "    die2 = roll_die()\n",
    "    return die1 + die2\n",
    "\n",
    "total = roll_two_dice()\n",
    "print(f\"The sum of the two dice is {total}.\")"
   ]
  },
  {
   "cell_type": "markdown",
   "metadata": {},
   "source": [
    "### Simulating Many Dice Rolls\n",
    "\n",
    "Now that we have a function to simulate two dice rolls, let's create a loop that simulates a large number of dice rolls, representing an entire game.\n",
    "\n",
    "> Can you write a for loop to simulate N dice rolls?\n",
    "\n"
   ]
  },
  {
   "cell_type": "code",
   "execution_count": 12,
   "metadata": {},
   "outputs": [
    {
     "name": "stdout",
     "output_type": "stream",
     "text": [
      "The results of the 10 dice rolls are: [6, 5, 1, 5, 1, 6, 5, 1, 3, 4]\n"
     ]
    }
   ],
   "source": [
    "def simulate_dice_rolls(num_rolls):\n",
    "    \"\"\"\n",
    "    Simulates N dice rolls and returns the results.\n",
    "    \n",
    "    Args:\n",
    "        num_rolls (int): The number of dice rolls to simulate.\n",
    "    \n",
    "    Returns:\n",
    "        list: A list of the results of the dice rolls.\n",
    "    \"\"\"\n",
    "    results = []\n",
    "    for _ in range(num_rolls):\n",
    "        results.append(roll_die())\n",
    "    return results\n",
    "\n",
    "num_rolls = 10\n",
    "results = simulate_dice_rolls(num_rolls)\n",
    "print(f\"The results of the {num_rolls} dice rolls are: {results}\")"
   ]
  },
  {
   "cell_type": "markdown",
   "metadata": {},
   "source": [
    "This isn't what we wanted - we want to simulate rolling two six-sided dice, not just one. It's important to add in checks to your code to verify that it's doing what you think it's doing.\n",
    "\n",
    "> Can you modify simulate_dice_rolls to simulate the rolling of two dice, not just one? Use roll_two_dice"
   ]
  },
  {
   "cell_type": "code",
   "execution_count": 13,
   "metadata": {},
   "outputs": [
    {
     "name": "stdout",
     "output_type": "stream",
     "text": [
      "The results of the 10 rolls of two dice are: [5, 2, 9, 6, 7, 8, 9, 7, 3, 7]\n"
     ]
    }
   ],
   "source": [
    "def simulate_dice_rolls(num_rolls):\n",
    "    \"\"\"\n",
    "    Simulates N rolls of two dice and returns the results.\n",
    "    \n",
    "    Args:\n",
    "        num_rolls (int): The number of rolls of two dice to simulate.\n",
    "    \n",
    "    Returns:\n",
    "        list: A list of the sums of the two dice rolls.\n",
    "    \"\"\"\n",
    "    results = []\n",
    "    for _ in range(num_rolls):\n",
    "        results.append(roll_two_dice())\n",
    "    return results\n",
    "\n",
    "num_rolls = 10\n",
    "results = simulate_dice_rolls(num_rolls)\n",
    "print(f\"The results of the {num_rolls} rolls of two dice are: {results}\")"
   ]
  },
  {
   "cell_type": "markdown",
   "metadata": {},
   "source": [
    "This matches our expectations!"
   ]
  },
  {
   "cell_type": "markdown",
   "metadata": {},
   "source": [
    "### Performing Statistics\n",
    "\n",
    "Now that we have a basic \"simulator\" working, we can perform analysis on our system. This lets us more accurately validate that our system matches theory. Here, we'll calculate the mean and standard deviation of our system after N dice rolls.\n",
    "\n",
    "> Can you calculate the mean and standard deviation of the dice rolls?"
   ]
  },
  {
   "cell_type": "code",
   "execution_count": 14,
   "metadata": {},
   "outputs": [
    {
     "name": "stdout",
     "output_type": "stream",
     "text": [
      "The results of the 100 rolls of two dice are: [6, 5, 5, 3, 8, 6, 5, 5, 7, 12, 8, 5, 5, 5, 7, 8, 5, 6, 8, 9, 4, 7, 7, 6, 7, 6, 11, 5, 10, 9, 12, 7, 10, 7, 7, 4, 3, 7, 7, 4, 3, 4, 8, 8, 9, 11, 8, 10, 11, 3, 9, 7, 5, 10, 12, 7, 11, 12, 7, 7, 3, 7, 6, 9, 8, 7, 5, 3, 4, 3, 5, 3, 12, 3, 7, 3, 5, 7, 8, 7, 8, 6, 7, 8, 6, 3, 8, 12, 7, 6, 7, 7, 9, 5, 10, 5, 6, 3, 2, 8]\n",
      "The mean of the dice roll results is: 6.78\n",
      "The standard deviation of the dice roll results is: 2.51\n"
     ]
    }
   ],
   "source": [
    "import statistics\n",
    "\n",
    "def simulate_dice_rolls(num_rolls):\n",
    "    \"\"\"\n",
    "    Simulates N rolls of two dice, calculates the mean and standard deviation of the results, and returns the results.\n",
    "    \n",
    "    Args:\n",
    "        num_rolls (int): The number of rolls of two dice to simulate.\n",
    "    \n",
    "    Returns:\n",
    "        tuple: A tuple containing the list of dice roll results, the mean, and the standard deviation.\n",
    "    \"\"\"\n",
    "    results = []\n",
    "    for _ in range(num_rolls):\n",
    "        results.append(roll_two_dice())\n",
    "    \n",
    "    mean = statistics.mean(results)\n",
    "    std_dev = statistics.stdev(results)\n",
    "    \n",
    "    return results, mean, std_dev\n",
    "\n",
    "num_rolls = 100\n",
    "results, mean, std_dev = simulate_dice_rolls(num_rolls)\n",
    "print(f\"The results of the {num_rolls} rolls of two dice are: {results}\")\n",
    "print(f\"The mean of the dice roll results is: {mean:.2f}\")\n",
    "print(f\"The standard deviation of the dice roll results is: {std_dev:.2f}\")"
   ]
  },
  {
   "cell_type": "markdown",
   "metadata": {},
   "source": [
    "This is close to what we expect - each dice has an expectation value of 3.5, so two dice would sum to 7. If we increase the number of rolls, we expect it to converge even closer to 7, following the law of large numbers.\n",
    "\n",
    "> Can you simulate 10,000 dice rolls instead?"
   ]
  },
  {
   "cell_type": "code",
   "execution_count": 15,
   "metadata": {},
   "outputs": [
    {
     "name": "stdout",
     "output_type": "stream",
     "text": [
      "The results of the 10000 rolls of two dice are available.\n",
      "The mean of the dice roll results is: 7.00\n",
      "The standard deviation of the dice roll results is: 2.41\n"
     ]
    }
   ],
   "source": [
    "num_rolls = 10_000\n",
    "results, mean, std_dev = simulate_dice_rolls(num_rolls)\n",
    "print(f\"The results of the {num_rolls} rolls of two dice are available.\")\n",
    "print(f\"The mean of the dice roll results is: {mean:.2f}\")\n",
    "print(f\"The standard deviation of the dice roll results is: {std_dev:.2f}\")"
   ]
  },
  {
   "cell_type": "markdown",
   "metadata": {},
   "source": [
    "Here, Claude even provides a sample output. While the numbers will vary, the trends should be the same - the mean converges to 7.\n",
    "\n",
    "```\n",
    "The results of the 10000 rolls of two dice are available.\n",
    "The mean of the dice roll results is: 7.01\n",
    "The standard deviation of the dice roll results is: 2.86\n",
    "```"
   ]
  },
  {
   "cell_type": "markdown",
   "metadata": {},
   "source": [
    "### Generating Static Plots\n",
    "What if we want to visualize the distibution of the dice?\n",
    "\n",
    "> Can you plot the distribution of the dice after simulating N times?"
   ]
  },
  {
   "cell_type": "code",
   "execution_count": 16,
   "metadata": {},
   "outputs": [
    {
     "data": {
      "image/png": "[encoded data removed]",
      "text/plain": [
       "<Figure size 1000x600 with 1 Axes>"
      ]
     },
     "metadata": {},
     "output_type": "display_data"
    }
   ],
   "source": [
    "import matplotlib.pyplot as plt\n",
    "\n",
    "num_rolls = 10_000\n",
    "results, mean, std_dev = simulate_dice_rolls(num_rolls)\n",
    "\n",
    "# Plot the distribution of the dice roll results\n",
    "plt.figure(figsize=(10, 6))\n",
    "plt.hist(results, bins=11, edgecolor='black')\n",
    "plt.xlabel('Sum of Two Dice Rolls')\n",
    "plt.ylabel('Frequency')\n",
    "plt.title(f'Distribution of {num_rolls} Dice Rolls')\n",
    "plt.axvline(x=mean, color='r', linestyle='--', label='Mean')\n",
    "plt.legend()\n",
    "plt.show()"
   ]
  },
  {
   "cell_type": "markdown",
   "metadata": {},
   "source": [
    "This worked very well! We see a discrete distribution matching theory. The probabilities range from 1/36 to 1/6 from 2 to 7 in equally spaced increments of 1/36, as demonstrated in the plot."
   ]
  }
 ],
 "metadata": {
  "kernelspec": {
   "display_name": "langchain",
   "language": "python",
   "name": "python3"
  },
  "language_info": {
   "codemirror_mode": {
    "name": "ipython",
    "version": 3
   },
   "file_extension": ".py",
   "mimetype": "text/x-python",
   "name": "python",
   "nbconvert_exporter": "python",
   "pygments_lexer": "ipython3",
   "version": "3.12.2"
  },
  "orig_nbformat": 4
 },
 "nbformat": 4,
 "nbformat_minor": 2
}
